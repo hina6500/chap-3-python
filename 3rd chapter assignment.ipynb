{
 "cells": [
  {
   "cell_type": "code",
   "execution_count": 599,
   "metadata": {},
   "outputs": [
    {
     "name": "stdout",
     "output_type": "stream",
     "text": [
      "Hina\n",
      "Huma\n",
      "Kiran\n"
     ]
    }
   ],
   "source": [
    "#3-1. Names: Store the names of a few of your friends in a list called names. Print each person’s name by accessing each element in the list, one at a time.\n",
    "names=['hina', 'huma','kiran']\n",
    "print(names[0].title())\n",
    "print(names[1].title())\n",
    "print(names[2].title())"
   ]
  },
  {
   "cell_type": "code",
   "execution_count": 600,
   "metadata": {},
   "outputs": [
    {
     "name": "stdout",
     "output_type": "stream",
     "text": [
      "hina hello how are you?\n",
      "huma hello how are you?\n",
      "kiran hello how are you?\n"
     ]
    }
   ],
   "source": [
    "#3-2. Greetings: Start with the list you used in Exercise 3-1, but instead of just \n",
    "#printing each person’s name, print a message to them. The text of each mes\u0002sage should be the same, but each message should be personalized with the \n",
    "#person’s name.\n",
    "names=['hina', 'huma','kiran']\n",
    "message=\" hello how are you?\"\n",
    "print(names[0]+message)\n",
    "print(names[1]+message)\n",
    "print(names[2]+message)"
   ]
  },
  {
   "cell_type": "code",
   "execution_count": 601,
   "metadata": {},
   "outputs": [
    {
     "name": "stdout",
     "output_type": "stream",
     "text": [
      "i would love to own a civic\n",
      "My favourite car is BMW\n",
      "i like JLI\n"
     ]
    }
   ],
   "source": [
    "#3-3. Your Own List: Think of your favorite mode of transportation, such as a motorcycle or a car, and make a list that stores several examples. Use your list \n",
    "#to print a series of statements about these items, such as “I would like to own a Honda motorcycle.”\n",
    "cars=['civic','BMW', \"JLI\"]\n",
    "print(\"i would love to own a \"+cars[0])\n",
    "print(\"My favourite car is \"+cars[1])\n",
    "print(\"i like \"+cars[2])"
   ]
  },
  {
   "cell_type": "code",
   "execution_count": 602,
   "metadata": {},
   "outputs": [
    {
     "name": "stdout",
     "output_type": "stream",
     "text": [
      "Aoa rohma would you like to join me on dinner?\n",
      "Aoa hina would you like to join me on dinner?\n",
      "Aoa tahreem would you like to join me on dinner?\n"
     ]
    }
   ],
   "source": [
    "#3-4. Guest List: If you could invite anyone, living or deceased, to dinner, who would you invite? Make a list that includes at least three people you’d like to \n",
    "#invite to dinner. Then use your list to print a message to each person, inviting them to dinner.\n",
    "persons=['rohma','hina','tahreem']\n",
    "print(\"Aoa \"+persons[0]+\" would you like to join me on dinner?\")\n",
    "print(\"Aoa \"+persons[1]+\" would you like to join me on dinner?\")\n",
    "print(\"Aoa \"+persons[2]+\" would you like to join me on dinner?\")"
   ]
  },
  {
   "cell_type": "code",
   "execution_count": 603,
   "metadata": {},
   "outputs": [
    {
     "name": "stdout",
     "output_type": "stream",
     "text": [
      "oh rohma i'm sad you can't come\n",
      "aoa abbeha i'm really happy you are joining me on dinner\n",
      "Aoa hina would you like to join me on dinner?\n",
      "Aoa tahreem would you like to join me on dinner?\n"
     ]
    }
   ],
   "source": [
    "#3-5. Changing Guest List: \n",
    "persons=['rohma','hina','tahreem']\n",
    "print(\"oh \"+persons[0]+\" i'm sad you can't come\")\n",
    "persons.insert(0,'abbeha')\n",
    "persons.remove('rohma')\n",
    "print(\"aoa \"+persons[0]+\" i'm really happy you are joining me on dinner\")\n",
    "print(\"Aoa \"+persons[1]+\" would you like to join me on dinner?\")\n",
    "print(\"Aoa \"+persons[2]+\" would you like to join me on dinner?\")"
   ]
  },
  {
   "cell_type": "code",
   "execution_count": 604,
   "metadata": {},
   "outputs": [
    {
     "name": "stdout",
     "output_type": "stream",
     "text": [
      "aoa Abbeha Hina and Tahreem i wanna tell you that 3 more persons are joining us on dinner\n",
      "aoa Rida i'm really happy you are joining me on dinner\n",
      "aoa Abbeha i'm really happy you are joining me on dinner\n",
      "aoa Hamna i'm really happy you are joining me on dinner\n",
      "aoa Hina i'm really happy you are joining me on dinner\n",
      "aoa Tahreem i'm really happy you are joining me on dinner\n",
      "aoa Hira i'm really happy you are joining me on dinner\n"
     ]
    }
   ],
   "source": [
    "#3-6. More Guests: \n",
    "persons=['Rohma','Hina','Tahreem']\n",
    "persons.insert(0,'Abbeha')\n",
    "persons.remove('Rohma')\n",
    "print(\"aoa \"+persons[0],persons[1] +\" and \"+persons[2]+\" i wanna tell you that 3 more persons are joining us on dinner\")\n",
    "persons.insert(0,'Rida')\n",
    "persons.insert(2,'Hamna')\n",
    "persons.append('Hira')\n",
    "print(\"aoa \"+persons[0]+\" i'm really happy you are joining me on dinner\")\n",
    "print(\"aoa \"+persons[1]+\" i'm really happy you are joining me on dinner\")\n",
    "print(\"aoa \"+persons[2]+\" i'm really happy you are joining me on dinner\")\n",
    "print(\"aoa \"+persons[3]+\" i'm really happy you are joining me on dinner\")\n",
    "print(\"aoa \"+persons[4]+\" i'm really happy you are joining me on dinner\")\n",
    "print(\"aoa \"+persons[5]+\" i'm really happy you are joining me on dinner\")"
   ]
  },
  {
   "cell_type": "code",
   "execution_count": 605,
   "metadata": {},
   "outputs": [
    {
     "name": "stdout",
     "output_type": "stream",
     "text": [
      "Hira i feel sorry to tell you that i can't invite you\n",
      "Tahreem i feel sorry to tell you that i can't invite you\n",
      "Hina i feel sorry to tell you that i can't invite you\n",
      "Hamna i feel sorry to tell you that i can't invite you\n",
      "Rida and Abbeha I feel happy to tell you that you are joining me on dinner\n",
      "['Rida', 'Abbeha']\n"
     ]
    }
   ],
   "source": [
    "#3-7. Shrinking Guest List:\n",
    "persons=['Rohma','Hina','Tahreem']\n",
    "persons.insert(0,'Abbeha')\n",
    "persons.remove('Rohma')\n",
    "persons.insert(0,'Rida')\n",
    "persons.insert(2,'Hamna')\n",
    "persons.append('Hira')\n",
    "p1=persons.pop()\n",
    "print(p1+ \" i feel sorry to tell you that i can't invite you\")\n",
    "p1=persons.pop()\n",
    "print(p1+ \" i feel sorry to tell you that i can't invite you\")\n",
    "p1=persons.pop()\n",
    "print(p1+ \" i feel sorry to tell you that i can't invite you\")\n",
    "p1=persons.pop()\n",
    "print(p1+ \" i feel sorry to tell you that i can't invite you\")\n",
    "print(persons[0]+\" and \"+persons[1]+\" I feel happy to tell you that you are joining me on dinner\")\n",
    "print(persons)"
   ]
  },
  {
   "cell_type": "code",
   "execution_count": 606,
   "metadata": {},
   "outputs": [
    {
     "name": "stdout",
     "output_type": "stream",
     "text": [
      "['Madina', 'Makkah', 'Turkey', 'Paris', 'Naran']\n",
      "['Madina', 'Makkah', 'Naran', 'Paris', 'Turkey']\n",
      "['Madina', 'Makkah', 'Turkey', 'Paris', 'Naran']\n",
      "['Turkey', 'Paris', 'Naran', 'Makkah', 'Madina']\n",
      "['Madina', 'Makkah', 'Naran', 'Paris', 'Turkey']\n",
      "['Madina', 'Makkah', 'Naran', 'Paris', 'Turkey']\n",
      "['Turkey', 'Paris', 'Naran', 'Makkah', 'Madina']\n"
     ]
    }
   ],
   "source": [
    "#3-8. Seeing the World: \n",
    "locations=['Madina','Makkah','Turkey','Paris','Naran']\n",
    "print(locations)\n",
    "print(sorted(locations))\n",
    "print(locations)\n",
    "locations.sort(reverse=True)\n",
    "print(locations)\n",
    "locations.sort(reverse=False)\n",
    "print(locations)\n",
    "locations.sort()\n",
    "print(locations)\n",
    "locations.sort(reverse=True)\n",
    "print(locations)"
   ]
  },
  {
   "cell_type": "code",
   "execution_count": 607,
   "metadata": {},
   "outputs": [
    {
     "name": "stdout",
     "output_type": "stream",
     "text": [
      "2\n"
     ]
    }
   ],
   "source": [
    "#3-9. Dinner Guests: length\n",
    "persons=['Rohma','Hina','Tahreem']\n",
    "persons.insert(0,'Abbeha')\n",
    "persons.remove('Rohma')\n",
    "persons.insert(0,'Rida')\n",
    "persons.insert(2,'Hamna')\n",
    "persons.append('Hira')\n",
    "p1=persons.pop()\n",
    "p1=persons.pop()\n",
    "p1=persons.pop()\n",
    "p1=persons.pop()\n",
    "print(len(persons))\n"
   ]
  },
  {
   "cell_type": "code",
   "execution_count": 608,
   "metadata": {},
   "outputs": [
    {
     "name": "stdout",
     "output_type": "stream",
     "text": [
      "Abbotabad\n",
      "['Multan', 'karachi', 'Islamabad', 'Abbotabad']\n",
      "['Multan', 'kabirwala', 'Islamabad', 'Abbotabad']\n",
      "['Multan', 'kabirwala', 'Islamabad', 'Abbotabad', 'haiderabad']\n",
      "['Multan', 'kabirwala', 'Islamabad', 'Lahore', 'Abbotabad', 'haiderabad']\n",
      "['kabirwala', 'Islamabad', 'Lahore', 'Abbotabad', 'haiderabad']\n",
      "haiderabad\n",
      "Abbotabad\n",
      "['kabirwala', 'Islamabad', 'Lahore']\n",
      "['Islamabad', 'Lahore']\n",
      "['lahore', 'abbotabad', 'islamabad', 'kabirwala']\n",
      "['abbotabad', 'islamabad', 'kabirwala', 'lahore']\n",
      "['lahore', 'abbotabad', 'islamabad', 'kabirwala']\n",
      "['abbotabad', 'islamabad', 'kabirwala', 'lahore']\n",
      "['lahore', 'kabirwala', 'islamabad', 'abbotabad']\n",
      "4\n",
      "abbotabad\n"
     ]
    }
   ],
   "source": [
    "#3-10. Every Function:\n",
    "cities=['Multan','karachi','Islamabad','Abbotabad']\n",
    "#Accessing Elements in a List\n",
    "print(cities[3])\n",
    "#modifying Elements in a List\n",
    "print(cities)\n",
    "cities[1]='kabirwala'\n",
    "print(cities)\n",
    "#Appending Elements to the End of a List\n",
    "cities.append('haiderabad')\n",
    "print(cities)\n",
    "#Inserting Elements into a List\n",
    "cities.insert(3,'Lahore')\n",
    "print(cities)\n",
    "#Removing Elements from a List\n",
    "#Removing an Item Using the del Statement\n",
    "del cities[0]\n",
    "print(cities)\n",
    "#Removing an Item Using the pop() Method\n",
    "poped_city=cities.pop()\n",
    "print(poped_city)\n",
    "#Popping Items from any Position in a List\n",
    "poped_city=cities.pop(3)\n",
    "print(poped_city)\n",
    "print(cities)\n",
    "#Removing an Item by Value\n",
    "cities.remove('kabirwala')\n",
    "print(cities)\n",
    "#temprarily sorting\n",
    "cities=['lahore','abbotabad','islamabad','kabirwala']\n",
    "print(cities)\n",
    "print(sorted(cities))\n",
    "print(cities)\n",
    "#permanent sorting\n",
    "cities.sort()\n",
    "print(cities)\n",
    "#reverse order\n",
    "cities.sort(reverse=True)\n",
    "print(cities)\n",
    "#finding the Length of a List\n",
    "print(len(cities))\n",
    "print(cities[-1])"
   ]
  },
  {
   "cell_type": "code",
   "execution_count": 609,
   "metadata": {},
   "outputs": [
    {
     "name": "stdout",
     "output_type": "stream",
     "text": [
      "khanewal\n"
     ]
    }
   ],
   "source": [
    "#3-11. Intentional Error: If you haven’t received an index error in one of your programs yet, try to make one happen. Change an index in one of your programs to produce an index error. Make sure youcorrect the error before closing the program.\n",
    "#cities=[]\n",
    "#print(cities[-1])(this statement will cause index error)\n",
    "#correction of error\n",
    "cities=['multan','khanewal']\n",
    "print(cities[-1])"
   ]
  }
 ],
 "metadata": {
  "interpreter": {
   "hash": "cf6744d95205dae8e5417b51023893433232521d324ecb98fe0ff0cbfc1648ea"
  },
  "kernelspec": {
   "display_name": "Python 3.10.4 64-bit",
   "language": "python",
   "name": "python3"
  },
  "language_info": {
   "codemirror_mode": {
    "name": "ipython",
    "version": 3
   },
   "file_extension": ".py",
   "mimetype": "text/x-python",
   "name": "python",
   "nbconvert_exporter": "python",
   "pygments_lexer": "ipython3",
   "version": "3.10.4"
  },
  "orig_nbformat": 4
 },
 "nbformat": 4,
 "nbformat_minor": 2
}
